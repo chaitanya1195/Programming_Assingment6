{
 "cells": [
  {
   "cell_type": "code",
   "execution_count": 1,
   "id": "88e91f08",
   "metadata": {},
   "outputs": [
    {
     "name": "stdout",
     "output_type": "stream",
     "text": [
      "Enter sequence value: 5\n",
      "Fibonacci sequence:\n",
      "0\n",
      "1\n",
      "1\n",
      "2\n",
      "3\n"
     ]
    }
   ],
   "source": [
    "#1 Write a Python Program to Display Fibonacci Sequence Using Recursion\n",
    "\n",
    "def recur_fibo(x):\n",
    "    if x <= 1:\n",
    "        return x\n",
    "    else:\n",
    "        return(recur_fibo(x-1)+recur_fibo(x-2))\n",
    "    \n",
    "xterms = int(input(\"Enter sequence value: \"))\n",
    "\n",
    "# check if the number of terms is valid\n",
    "if xterms <= 0:\n",
    "    print(\"Please enter a positive interger\")\n",
    "else:\n",
    "    print(\"Fibonacci sequence:\")\n",
    "    for i in range(xterms):\n",
    "        print(recur_fibo(i))"
   ]
  },
  {
   "cell_type": "code",
   "execution_count": 7,
   "id": "1703e280",
   "metadata": {},
   "outputs": [
    {
     "name": "stdout",
     "output_type": "stream",
     "text": [
      "Enter a number3\n",
      "The factorial of 3 is 6\n"
     ]
    }
   ],
   "source": [
    "#2 Write a Python Program to Find Factorial of Number Using Recursion\n",
    "\n",
    "def recur_fact(x):\n",
    "    if x == 1:\n",
    "        return x\n",
    "    else:\n",
    "        return x*recur_fact(x-1)\n",
    "y = int(input(\"Enter a number\"))\n",
    "\n",
    "#check if the number is negative\n",
    "if y < 0:\n",
    "    print(\"Factorial does'nt exist for negative numbers\")\n",
    "elif y == 0:\n",
    "    print(\"The factorial of 0 is 1\")\n",
    "else:\n",
    "    print(\"The factorial of\", y, \"is\", recur_fact(y))"
   ]
  },
  {
   "cell_type": "code",
   "execution_count": 4,
   "id": "fd4e63c2",
   "metadata": {},
   "outputs": [
    {
     "name": "stdout",
     "output_type": "stream",
     "text": [
      "Enter the weight of your body(kgs)70\n",
      "Enter the height of your body(cm)180\n",
      "Your Body Mass Index is  21.604938271604937\n",
      "you are healthy\n"
     ]
    }
   ],
   "source": [
    "#3 Write a Python Program to calculate your Body Mass Index\n",
    "\n",
    "#take input values for weight and height \n",
    "weight = float(input(\"Enter the weight of your body(kgs)\"))\n",
    "height = float(input(\"Enter the height of your body(cm)\"))\n",
    "\n",
    "#defining function for BMI\n",
    "bmi = weight/(height/100)**2\n",
    "print(\"Your Body Mass Index is \",bmi)\n",
    "\n",
    "#using if-elif-else for categorize\n",
    "if bmi <= 18.5:\n",
    "    print(\"You are underweight\")\n",
    "elif bmi <=24.9:\n",
    "    print(\"you are healthy\")\n",
    "elif bmi <= 29.9:\n",
    "    print(\"you are overweight\")\n",
    "else:\n",
    "    print(\"You are obese\")"
   ]
  },
  {
   "cell_type": "code",
   "execution_count": 2,
   "id": "047f2015",
   "metadata": {},
   "outputs": [
    {
     "name": "stdout",
     "output_type": "stream",
     "text": [
      "Enter a number for natural logarithm 14\n",
      "Natural logarithm is\n",
      "2.6390573296152584\n"
     ]
    }
   ],
   "source": [
    "#4 Write a Python Program to calculate the natural logarithm of any number\n",
    "\n",
    "import math\n",
    "\n",
    "x = float(input(\"Enter a number for natural logarithm \"))\n",
    "\n",
    "#log of zero is undefined\n",
    "if x == 0:\n",
    "    print(\"Undefined\")\n",
    "else:\n",
    "    print(\"Natural logarithm is\")\n",
    "    print(math.log(x))"
   ]
  },
  {
   "cell_type": "code",
   "execution_count": 11,
   "id": "09bd63df",
   "metadata": {},
   "outputs": [
    {
     "name": "stdout",
     "output_type": "stream",
     "text": [
      "Enter the number 2\n",
      "9\n"
     ]
    }
   ],
   "source": [
    "#5 Write a Python Program for cube sum of first n natural numbers\n",
    "\n",
    "#defining function for sum of series\n",
    "def sum_of_series(n):\n",
    "    sum = 0\n",
    "    for i in range(1,n+1):\n",
    "        sum += i*i*i\n",
    "    return sum\n",
    "\n",
    "n = int(input(\"Enter the number \"))\n",
    "print(sum_of_series(n))\n",
    "\n"
   ]
  }
 ],
 "metadata": {
  "kernelspec": {
   "display_name": "Python 3 (ipykernel)",
   "language": "python",
   "name": "python3"
  },
  "language_info": {
   "codemirror_mode": {
    "name": "ipython",
    "version": 3
   },
   "file_extension": ".py",
   "mimetype": "text/x-python",
   "name": "python",
   "nbconvert_exporter": "python",
   "pygments_lexer": "ipython3",
   "version": "3.9.12"
  }
 },
 "nbformat": 4,
 "nbformat_minor": 5
}
